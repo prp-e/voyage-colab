{
  "cells": [
    {
      "cell_type": "markdown",
      "metadata": {
        "id": "JRc6SMH21Y2c"
      },
      "source": [
        "# Voyage Version 1.0\n",
        "\n",
        "## What is Voyage?\n",
        "\n",
        "[Voyage](https://huggingface.co/openvoyage/voyage-v1) is basically a _text to image_ model developed by [Muhammadreza Haghiri](https://haghiri75.com) and it is based on weights from Stable Diffusion version 2.0 and Midjourney version 4. This model helps creative people turn their ideas to artwork for free (in any sense of the word _free_). \n",
        "\n",
        "## The ownership of the generated content\n",
        "\n",
        "Since you use this notebook on your own Google account and you spend your own time on it, I guess the total owner of that content is no one but you (a poetic interpretation of the sentence _You're the owner of the content_, eh?) but I personally ask you to just introduce _Voyage_ to your friends and family members and help AI content creation spread in the world. \n",
        "\n",
        "## How to use this notebook?\n",
        "\n",
        "Just run cells, if anything needs to be modified, there will be a guide. "
      ]
    },
    {
      "cell_type": "code",
      "execution_count": null,
      "metadata": {
        "cellView": "form",
        "id": "SYquYLr139Nx"
      },
      "outputs": [],
      "source": [
        "#@markdown # Checking the GPU\n",
        "\n",
        "!nvidia-smi"
      ]
    },
    {
      "cell_type": "code",
      "execution_count": null,
      "metadata": {
        "cellView": "form",
        "id": "11xa5FFc3Myu"
      },
      "outputs": [],
      "source": [
        "#@markdown # Installing required libraries\n",
        "\n",
        "!pip install --upgrade git+https://github.com/huggingface/diffusers.git transformers scipy ftfy accelerate"
      ]
    },
    {
      "cell_type": "code",
      "execution_count": null,
      "metadata": {
        "cellView": "form",
        "id": "DjlLQOwF38Xn"
      },
      "outputs": [],
      "source": [
        "#@markdown # Importing necessary libraries\n",
        "\n",
        "from diffusers import StableDiffusionPipeline, EulerDiscreteScheduler, DiffusionPipeline, DPMSolverMultistepScheduler\n",
        "import torch"
      ]
    },
    {
      "cell_type": "code",
      "execution_count": null,
      "metadata": {
        "cellView": "form",
        "id": "treZeCPM4jzs"
      },
      "outputs": [],
      "source": [
        "#@markdown # Setting up the model\n",
        "#@markdown Please note that the model has its own default settings here, there will be an option for further modifications as well. The current code works perfectly and very nice results are generated with these settings, specially with the `euler` scheduler.\n",
        "\n",
        "model_id = \"openvoyage/voyage-v1\"\n",
        "\n",
        "scheduler = EulerDiscreteScheduler.from_pretrained(model_id, subfolder=\"scheduler\")\n",
        "pipe = StableDiffusionPipeline.from_pretrained(model_id, scheduler=scheduler, torch_dtype=torch.float16)\n",
        "pipe = pipe.to(\"cuda\")"
      ]
    },
    {
      "cell_type": "code",
      "execution_count": null,
      "metadata": {
        "cellView": "form",
        "colab": {
          "background_save": true
        },
        "id": "kgPf8ZLH5glp"
      },
      "outputs": [],
      "source": [
        "#@markdown # Inference properties\n",
        "#@markdown Currently, the _guidance scale_ isn't modifiable (is that actually a word?) by user. But prompt, negative prompt and dimensions are. And if you just want to modify the code to get another value for the guidance scale, don't increase it more than 10 (which is the default value) because it may make your image fuzzy and distorted.\n",
        "\n",
        "\n",
        "\n",
        "prompt = \"ultra realistic illustration of a young beautiful woman, intricate, elegant, sharp focus, smooth edges\" #@param {type: \"string\"}\n",
        "negative_prompt = \"hands, arms, ribs\" #@param {type: \"string\"}\n",
        "width = 512 #@param {type: \"number\"}\n",
        "height = 512 #@param {type: \"number\"}\n",
        "\n",
        "\n",
        "prompt = f\"<voyage> style {prompt}\""
      ]
    },
    {
      "cell_type": "code",
      "execution_count": null,
      "metadata": {
        "cellView": "form",
        "colab": {
          "background_save": true
        },
        "id": "IVLnf-w86phM"
      },
      "outputs": [],
      "source": [
        "#@markdown # Run the generator\n",
        "print(f'prompt is {prompt}')\n",
        "image = pipe(prompt=prompt, negative_prompt=negative_prompt, num_inference_steps=75, width=width, height=height, guidance_scale=10).images[0]\n",
        "image"
      ]
    }
  ],
  "metadata": {
    "accelerator": "GPU",
    "colab": {
      "provenance": []
    },
    "gpuClass": "standard",
    "kernelspec": {
      "display_name": "Python 3",
      "name": "python3"
    },
    "language_info": {
      "name": "python"
    }
  },
  "nbformat": 4,
  "nbformat_minor": 0
}